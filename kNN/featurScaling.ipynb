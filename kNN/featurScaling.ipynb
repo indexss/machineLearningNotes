{
 "cells": [
  {
   "cell_type": "code",
   "execution_count": 2,
   "metadata": {},
   "outputs": [],
   "source": [
    "import numpy as np\n",
    "import matplotlib.pyplot as plt"
   ]
  },
  {
   "cell_type": "markdown",
   "metadata": {},
   "source": [
    "# Normalization"
   ]
  },
  {
   "cell_type": "code",
   "execution_count": 3,
   "metadata": {},
   "outputs": [
    {
     "data": {
      "text/plain": [
       "array([45, 32, 65, 59, 88, 63, 21, 75, 23, 95, 10, 70, 13, 53, 98, 46,  9,\n",
       "       70, 49, 37, 46, 30, 77, 87, 20, 21, 74, 74,  4,  5, 75, 40, 38, 87,\n",
       "       26, 65, 56, 99,  8,  3, 35, 84, 94, 74,  1, 27, 13, 23, 42,  0, 88,\n",
       "       81,  4, 26, 62, 68, 57, 58, 25, 40, 13, 13, 34, 88, 35, 59, 43, 31,\n",
       "       20, 67,  0,  5, 47, 73, 43, 74,  9, 36, 80, 12, 52, 91,  7, 31, 27,\n",
       "       92, 37, 83, 77, 47,  4,  6, 86, 80, 78, 43, 61, 38, 75, 33])"
      ]
     },
     "execution_count": 3,
     "metadata": {},
     "output_type": "execute_result"
    }
   ],
   "source": [
    "x = np.random.randint(0,100, size = 100)\n",
    "x"
   ]
  },
  {
   "cell_type": "code",
   "execution_count": 4,
   "metadata": {},
   "outputs": [
    {
     "data": {
      "text/plain": [
       "array([0.45454545, 0.32323232, 0.65656566, 0.5959596 , 0.88888889,\n",
       "       0.63636364, 0.21212121, 0.75757576, 0.23232323, 0.95959596,\n",
       "       0.1010101 , 0.70707071, 0.13131313, 0.53535354, 0.98989899,\n",
       "       0.46464646, 0.09090909, 0.70707071, 0.49494949, 0.37373737,\n",
       "       0.46464646, 0.3030303 , 0.77777778, 0.87878788, 0.2020202 ,\n",
       "       0.21212121, 0.74747475, 0.74747475, 0.04040404, 0.05050505,\n",
       "       0.75757576, 0.4040404 , 0.38383838, 0.87878788, 0.26262626,\n",
       "       0.65656566, 0.56565657, 1.        , 0.08080808, 0.03030303,\n",
       "       0.35353535, 0.84848485, 0.94949495, 0.74747475, 0.01010101,\n",
       "       0.27272727, 0.13131313, 0.23232323, 0.42424242, 0.        ,\n",
       "       0.88888889, 0.81818182, 0.04040404, 0.26262626, 0.62626263,\n",
       "       0.68686869, 0.57575758, 0.58585859, 0.25252525, 0.4040404 ,\n",
       "       0.13131313, 0.13131313, 0.34343434, 0.88888889, 0.35353535,\n",
       "       0.5959596 , 0.43434343, 0.31313131, 0.2020202 , 0.67676768,\n",
       "       0.        , 0.05050505, 0.47474747, 0.73737374, 0.43434343,\n",
       "       0.74747475, 0.09090909, 0.36363636, 0.80808081, 0.12121212,\n",
       "       0.52525253, 0.91919192, 0.07070707, 0.31313131, 0.27272727,\n",
       "       0.92929293, 0.37373737, 0.83838384, 0.77777778, 0.47474747,\n",
       "       0.04040404, 0.06060606, 0.86868687, 0.80808081, 0.78787879,\n",
       "       0.43434343, 0.61616162, 0.38383838, 0.75757576, 0.33333333])"
      ]
     },
     "execution_count": 4,
     "metadata": {},
     "output_type": "execute_result"
    }
   ],
   "source": [
    "(x - np.min(x))/(np.max(x) - np.min(x))"
   ]
  },
  {
   "cell_type": "code",
   "execution_count": 13,
   "metadata": {},
   "outputs": [
    {
     "data": {
      "text/plain": [
       "array([[32., 72.],\n",
       "       [63., 41.],\n",
       "       [93., 68.],\n",
       "       [29., 68.],\n",
       "       [55., 15.],\n",
       "       [96., 75.],\n",
       "       [ 0., 86.],\n",
       "       [25., 78.],\n",
       "       [51., 92.],\n",
       "       [65., 61.]])"
      ]
     },
     "execution_count": 13,
     "metadata": {},
     "output_type": "execute_result"
    }
   ],
   "source": [
    "X = np.random.randint(0,100, (50,2))\n",
    "X[:10,:]\n",
    "X = np.array(X, dtype=float)\n",
    "X[:10,:]\n"
   ]
  },
  {
   "cell_type": "code",
   "execution_count": 16,
   "metadata": {},
   "outputs": [
    {
     "data": {
      "text/plain": [
       "<matplotlib.collections.PathCollection at 0x7f78500f3eb0>"
      ]
     },
     "execution_count": 16,
     "metadata": {},
     "output_type": "execute_result"
    },
    {
     "data": {
      "image/png": "[encoded data removed]",
      "text/plain": [
       "<Figure size 432x288 with 1 Axes>"
      ]
     },
     "metadata": {
      "needs_background": "light"
     },
     "output_type": "display_data"
    }
   ],
   "source": [
    "X[:,0] = (X[:,0]-np.min(X[:,0]))/(np.max(X[:,0]) - np.min(X[:,0]))\n",
    "X[:,1] = (X[:,1]-np.min(X[:,1]))/(np.max(X[:,1]) - np.min(X[:,1]))\n",
    "X[:10,:]\n",
    "plt.scatter(X[:,0],X[:,1])"
   ]
  },
  {
   "cell_type": "code",
   "execution_count": 19,
   "metadata": {},
   "outputs": [
    {
     "data": {
      "text/plain": [
       "0.569375"
      ]
     },
     "execution_count": 19,
     "metadata": {},
     "output_type": "execute_result"
    }
   ],
   "source": [
    "np.mean(X[:,0])"
   ]
  },
  {
   "cell_type": "code",
   "execution_count": 20,
   "metadata": {},
   "outputs": [
    {
     "data": {
      "text/plain": [
       "0.30952479538533473"
      ]
     },
     "execution_count": 20,
     "metadata": {},
     "output_type": "execute_result"
    }
   ],
   "source": [
    "np.std(X[:,0])"
   ]
  },
  {
   "cell_type": "code",
   "execution_count": 21,
   "metadata": {},
   "outputs": [
    {
     "data": {
      "text/plain": [
       "0.5684536082474226"
      ]
     },
     "execution_count": 21,
     "metadata": {},
     "output_type": "execute_result"
    }
   ],
   "source": [
    "np.mean(X[:,1])"
   ]
  },
  {
   "cell_type": "code",
   "execution_count": 22,
   "metadata": {},
   "outputs": [
    {
     "data": {
      "text/plain": [
       "0.30031697570480775"
      ]
     },
     "execution_count": 22,
     "metadata": {},
     "output_type": "execute_result"
    }
   ],
   "source": [
    "np.std(X[:,1])"
   ]
  },
  {
   "cell_type": "markdown",
   "metadata": {},
   "source": [
    "# Standardization"
   ]
  },
  {
   "cell_type": "code",
   "execution_count": 25,
   "metadata": {},
   "outputs": [],
   "source": [
    "X2 = np.random.randint(0,100,(50,2))\n",
    "X2 = np.array(X2,dtype=float)"
   ]
  },
  {
   "cell_type": "code",
   "execution_count": 26,
   "metadata": {},
   "outputs": [
    {
     "data": {
      "text/plain": [
       "array([[30., 28.],\n",
       "       [37., 28.],\n",
       "       [28., 44.],\n",
       "       [92., 60.],\n",
       "       [54., 51.],\n",
       "       [96., 44.],\n",
       "       [97., 25.],\n",
       "       [77., 71.],\n",
       "       [21., 41.],\n",
       "       [98., 79.],\n",
       "       [60., 28.],\n",
       "       [34., 16.],\n",
       "       [62.,  8.],\n",
       "       [17., 80.],\n",
       "       [31., 95.],\n",
       "       [ 4., 89.],\n",
       "       [99., 94.],\n",
       "       [44., 19.],\n",
       "       [80., 25.],\n",
       "       [51., 92.],\n",
       "       [29., 13.],\n",
       "       [86., 22.],\n",
       "       [ 7., 56.],\n",
       "       [89., 14.],\n",
       "       [90., 75.],\n",
       "       [27., 94.],\n",
       "       [15., 87.],\n",
       "       [95., 72.],\n",
       "       [55., 31.],\n",
       "       [47., 25.],\n",
       "       [18., 10.],\n",
       "       [87., 50.],\n",
       "       [78.,  1.],\n",
       "       [69., 95.],\n",
       "       [96., 29.],\n",
       "       [83., 67.],\n",
       "       [93., 19.],\n",
       "       [26., 32.],\n",
       "       [ 2., 43.],\n",
       "       [26., 82.],\n",
       "       [63., 91.],\n",
       "       [12., 95.],\n",
       "       [54., 47.],\n",
       "       [41., 69.],\n",
       "       [17., 85.],\n",
       "       [ 1., 98.],\n",
       "       [60., 15.],\n",
       "       [95., 35.],\n",
       "       [86., 24.],\n",
       "       [41., 71.]])"
      ]
     },
     "execution_count": 26,
     "metadata": {},
     "output_type": "execute_result"
    }
   ],
   "source": [
    "X2"
   ]
  },
  {
   "cell_type": "code",
   "execution_count": 27,
   "metadata": {},
   "outputs": [],
   "source": [
    "X2[:,0] = (X2[:,0] - np.mean(X2[:,0])) / np.std(X2[:,0])"
   ]
  },
  {
   "cell_type": "code",
   "execution_count": 28,
   "metadata": {},
   "outputs": [],
   "source": [
    "X2[:,1] = (X2[:,1] - np.mean(X2[:,1])) / np.std(X2[:,1])"
   ]
  },
  {
   "cell_type": "code",
   "execution_count": 29,
   "metadata": {},
   "outputs": [
    {
     "data": {
      "text/plain": [
       "<matplotlib.collections.PathCollection at 0x7f7840407490>"
      ]
     },
     "execution_count": 29,
     "metadata": {},
     "output_type": "execute_result"
    },
    {
     "data": {
      "image/png": "[encoded data removed]",
      "text/plain": [
       "<Figure size 432x288 with 1 Axes>"
      ]
     },
     "metadata": {
      "needs_background": "light"
     },
     "output_type": "display_data"
    }
   ],
   "source": [
    "plt.scatter(X2[:,0], X2[:,1])"
   ]
  },
  {
   "cell_type": "code",
   "execution_count": 30,
   "metadata": {},
   "outputs": [
    {
     "data": {
      "text/plain": [
       "-1.2212453270876722e-17"
      ]
     },
     "execution_count": 30,
     "metadata": {},
     "output_type": "execute_result"
    }
   ],
   "source": [
    "np.mean(X2[:,0])"
   ]
  },
  {
   "cell_type": "code",
   "execution_count": 31,
   "metadata": {},
   "outputs": [
    {
     "data": {
      "text/plain": [
       "0.9999999999999999"
      ]
     },
     "execution_count": 31,
     "metadata": {},
     "output_type": "execute_result"
    }
   ],
   "source": [
    "np.std(X2[:,0])"
   ]
  },
  {
   "cell_type": "code",
   "execution_count": null,
   "metadata": {},
   "outputs": [],
   "source": []
  }
 ],
 "metadata": {
  "kernelspec": {
   "display_name": "Python 3.9.12 ('base')",
   "language": "python",
   "name": "python3"
  },
  "language_info": {
   "codemirror_mode": {
    "name": "ipython",
    "version": 3
   },
   "file_extension": ".py",
   "mimetype": "text/x-python",
   "name": "python",
   "nbconvert_exporter": "python",
   "pygments_lexer": "ipython3",
   "version": "3.9.12"
  },
  "orig_nbformat": 4,
  "vscode": {
   "interpreter": {
    "hash": "40d3a090f54c6569ab1632332b64b2c03c39dcf918b08424e98f38b5ae0af88f"
   }
  }
 },
 "nbformat": 4,
 "nbformat_minor": 2
}
