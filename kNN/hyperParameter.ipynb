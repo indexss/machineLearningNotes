{
 "cells": [
  {
   "cell_type": "code",
   "execution_count": 11,
   "metadata": {},
   "outputs": [],
   "source": [
    "import numpy as np\n",
    "import matplotlib\n",
    "import matplotlib.pyplot as plt\n",
    "from sklearn import datasets"
   ]
  },
  {
   "cell_type": "code",
   "execution_count": 12,
   "metadata": {},
   "outputs": [
    {
     "data": {
      "text/plain": [
       "dict_keys(['data', 'target', 'frame', 'feature_names', 'target_names', 'images', 'DESCR'])"
      ]
     },
     "execution_count": 12,
     "metadata": {},
     "output_type": "execute_result"
    }
   ],
   "source": [
    "digits = datasets.load_digits()\n",
    "digits.keys()"
   ]
  },
  {
   "cell_type": "code",
   "execution_count": 13,
   "metadata": {},
   "outputs": [
    {
     "name": "stdout",
     "output_type": "stream",
     "text": [
      ".. _digits_dataset:\n",
      "\n",
      "Optical recognition of handwritten digits dataset\n",
      "--------------------------------------------------\n",
      "\n",
      "**Data Set Characteristics:**\n",
      "\n",
      "    :Number of Instances: 1797\n",
      "    :Number of Attributes: 64\n",
      "    :Attribute Information: 8x8 image of integer pixels in the range 0..16.\n",
      "    :Missing Attribute Values: None\n",
      "    :Creator: E. Alpaydin (alpaydin '@' boun.edu.tr)\n",
      "    :Date: July; 1998\n",
      "\n",
      "This is a copy of the test set of the UCI ML hand-written digits datasets\n",
      "https://archive.ics.uci.edu/ml/datasets/Optical+Recognition+of+Handwritten+Digits\n",
      "\n",
      "The data set contains images of hand-written digits: 10 classes where\n",
      "each class refers to a digit.\n",
      "\n",
      "Preprocessing programs made available by NIST were used to extract\n",
      "normalized bitmaps of handwritten digits from a preprinted form. From a\n",
      "total of 43 people, 30 contributed to the training set and different 13\n",
      "to the test set. 32x32 bitmaps are divided into nonoverlapping blocks of\n",
      "4x4 and the number of on pixels are counted in each block. This generates\n",
      "an input matrix of 8x8 where each element is an integer in the range\n",
      "0..16. This reduces dimensionality and gives invariance to small\n",
      "distortions.\n",
      "\n",
      "For info on NIST preprocessing routines, see M. D. Garris, J. L. Blue, G.\n",
      "T. Candela, D. L. Dimmick, J. Geist, P. J. Grother, S. A. Janet, and C.\n",
      "L. Wilson, NIST Form-Based Handprint Recognition System, NISTIR 5469,\n",
      "1994.\n",
      "\n",
      ".. topic:: References\n",
      "\n",
      "  - C. Kaynak (1995) Methods of Combining Multiple Classifiers and Their\n",
      "    Applications to Handwritten Digit Recognition, MSc Thesis, Institute of\n",
      "    Graduate Studies in Science and Engineering, Bogazici University.\n",
      "  - E. Alpaydin, C. Kaynak (1998) Cascading Classifiers, Kybernetika.\n",
      "  - Ken Tang and Ponnuthurai N. Suganthan and Xi Yao and A. Kai Qin.\n",
      "    Linear dimensionalityreduction using relevance weighted LDA. School of\n",
      "    Electrical and Electronic Engineering Nanyang Technological University.\n",
      "    2005.\n",
      "  - Claudio Gentile. A New Approximate Maximal Margin Classification\n",
      "    Algorithm. NIPS. 2000.\n",
      "\n"
     ]
    }
   ],
   "source": [
    "print(digits.DESCR)"
   ]
  },
  {
   "cell_type": "code",
   "execution_count": 14,
   "metadata": {},
   "outputs": [
    {
     "data": {
      "text/plain": [
       "(1797, 64)"
      ]
     },
     "execution_count": 14,
     "metadata": {},
     "output_type": "execute_result"
    }
   ],
   "source": [
    "X = digits.data\n",
    "X.shape"
   ]
  },
  {
   "cell_type": "code",
   "execution_count": 15,
   "metadata": {},
   "outputs": [
    {
     "data": {
      "text/plain": [
       "(1797,)"
      ]
     },
     "execution_count": 15,
     "metadata": {},
     "output_type": "execute_result"
    }
   ],
   "source": [
    "y = digits.target\n",
    "y.shape"
   ]
  },
  {
   "cell_type": "code",
   "execution_count": 16,
   "metadata": {},
   "outputs": [
    {
     "data": {
      "text/plain": [
       "0"
      ]
     },
     "execution_count": 16,
     "metadata": {},
     "output_type": "execute_result"
    }
   ],
   "source": [
    "some_digit = X[666]\n",
    "y[666]"
   ]
  },
  {
   "cell_type": "code",
   "execution_count": 23,
   "metadata": {},
   "outputs": [
    {
     "data": {
      "image/png": "[encoded data removed]",
      "text/plain": [
       "<Figure size 432x288 with 1 Axes>"
      ]
     },
     "metadata": {
      "needs_background": "light"
     },
     "output_type": "display_data"
    }
   ],
   "source": [
    "some_digit_image = some_digit.reshape(8,8)\n",
    "plt.imshow(some_digit_image)\n",
    "plt.show()"
   ]
  },
  {
   "cell_type": "code",
   "execution_count": 27,
   "metadata": {},
   "outputs": [],
   "source": [
    "from sklearn.model_selection import train_test_split\n",
    "from sklearn.neighbors import KNeighborsClassifier"
   ]
  },
  {
   "cell_type": "code",
   "execution_count": 35,
   "metadata": {},
   "outputs": [],
   "source": [
    "X_train, X_test, y_train, y_test = train_test_split(X,y)"
   ]
  },
  {
   "cell_type": "code",
   "execution_count": 29,
   "metadata": {},
   "outputs": [],
   "source": [
    "classifier = KNeighborsClassifier(n_neighbors=6)"
   ]
  },
  {
   "cell_type": "code",
   "execution_count": 30,
   "metadata": {},
   "outputs": [
    {
     "data": {
      "text/plain": [
       "KNeighborsClassifier(n_neighbors=6)"
      ]
     },
     "execution_count": 30,
     "metadata": {},
     "output_type": "execute_result"
    }
   ],
   "source": [
    "classifier.fit(X_train, y_train)"
   ]
  },
  {
   "cell_type": "code",
   "execution_count": 36,
   "metadata": {},
   "outputs": [
    {
     "data": {
      "text/plain": [
       "0.9888888888888889"
      ]
     },
     "execution_count": 36,
     "metadata": {},
     "output_type": "execute_result"
    }
   ],
   "source": [
    "y_predict = classifier.predict(X_test)\n",
    "sum(y_predict == y_test) / len(y_test)"
   ]
  },
  {
   "cell_type": "code",
   "execution_count": 37,
   "metadata": {},
   "outputs": [
    {
     "data": {
      "text/plain": [
       "0.9888888888888889"
      ]
     },
     "execution_count": 37,
     "metadata": {},
     "output_type": "execute_result"
    }
   ],
   "source": [
    "from sklearn import metrics\n",
    "from sklearn.metrics import accuracy_score\n",
    "accuracy_score(y_test, y_predict)"
   ]
  },
  {
   "cell_type": "code",
   "execution_count": 38,
   "metadata": {},
   "outputs": [
    {
     "data": {
      "text/plain": [
       "0.9888888888888889"
      ]
     },
     "execution_count": 38,
     "metadata": {},
     "output_type": "execute_result"
    }
   ],
   "source": [
    " classifier.score(X_test, y_test)"
   ]
  },
  {
   "cell_type": "markdown",
   "metadata": {},
   "source": [
    "# hyperParameter -- Find The Best K -- Grid Search"
   ]
  },
  {
   "cell_type": "code",
   "execution_count": 55,
   "metadata": {},
   "outputs": [],
   "source": [
    "paramGrid = [\n",
    "    {\n",
    "        'weights' : ['uniform'],\n",
    "        'n_neighbors' : [i for i in range(1,11)]\n",
    "    },\n",
    "    {\n",
    "        'weights' : ['distance'],\n",
    "        'n_neighbors' : [i for i in range(1,11)],\n",
    "        'p' : [p for p in range(1,6)]\n",
    "    }\n",
    "]"
   ]
  },
  {
   "cell_type": "code",
   "execution_count": 43,
   "metadata": {},
   "outputs": [],
   "source": [
    "knn_clf = KNeighborsClassifier()\n",
    "from sklearn.model_selection import GridSearchCV\n",
    "gridSearch = GridSearchCV(knn_clf, paramGrid)"
   ]
  },
  {
   "cell_type": "code",
   "execution_count": 44,
   "metadata": {},
   "outputs": [
    {
     "data": {
      "text/plain": [
       "GridSearchCV(estimator=KNeighborsClassifier(),\n",
       "             param_grid=[{'n_neighbors': [1, 2, 3, 4, 5, 6, 7, 8, 9, 10],\n",
       "                          'weights': ['uniform']},\n",
       "                         {'n_neighbors': [1, 2, 3, 4, 5, 6, 7, 8, 9, 10],\n",
       "                          'p': [1, 2, 3, 4, 5], 'weights': ['distance']}])"
      ]
     },
     "execution_count": 44,
     "metadata": {},
     "output_type": "execute_result"
    }
   ],
   "source": [
    "gridSearch.fit(X_train, y_train)"
   ]
  },
  {
   "cell_type": "code",
   "execution_count": 51,
   "metadata": {},
   "outputs": [
    {
     "name": "stdout",
     "output_type": "stream",
     "text": [
      "{'n_neighbors': 1, 'weights': 'uniform'}\n"
     ]
    }
   ],
   "source": [
    "print(gridSearch.best_params_)"
   ]
  },
  {
   "cell_type": "code",
   "execution_count": 53,
   "metadata": {},
   "outputs": [
    {
     "data": {
      "text/plain": [
       "0.9844444444444445"
      ]
     },
     "execution_count": 53,
     "metadata": {},
     "output_type": "execute_result"
    }
   ],
   "source": [
    "knn_clf = gridSearch.best_estimator_\n",
    "knn_clf.score(X_test, y_test)"
   ]
  },
  {
   "cell_type": "code",
   "execution_count": 61,
   "metadata": {},
   "outputs": [
    {
     "name": "stdout",
     "output_type": "stream",
     "text": [
      "Fitting 5 folds for each of 60 candidates, totalling 300 fits\n",
      "[CV] END .....................n_neighbors=1, weights=uniform; total time=   0.0s\n",
      "[CV] END .....................n_neighbors=1, weights=uniform; total time=   0.0s\n",
      "[CV] END .....................n_neighbors=1, weights=uniform; total time=   0.0s\n",
      "[CV] END .....................n_neighbors=1, weights=uniform; total time=   0.0s\n",
      "[CV] END .....................n_neighbors=1, weights=uniform; total time=   0.0s\n",
      "[CV] END .....................n_neighbors=2, weights=uniform; total time=   0.0s\n",
      "[CV] END .....................n_neighbors=2, weights=uniform; total time=   0.0s\n",
      "[CV] END .....................n_neighbors=2, weights=uniform; total time=   0.0s\n",
      "[CV] END .....................n_neighbors=2, weights=uniform; total time=   0.0s\n",
      "[CV] END .....................n_neighbors=2, weights=uniform; total time=   0.0s\n",
      "[CV] END .....................n_neighbors=3, weights=uniform; total time=   0.0s\n",
      "[CV] END .....................n_neighbors=3, weights=uniform; total time=   0.0s\n",
      "[CV] END .....................n_neighbors=3, weights=uniform; total time=   0.0s\n",
      "[CV] END .....................n_neighbors=3, weights=uniform; total time=   0.0s\n",
      "[CV] END .....................n_neighbors=3, weights=uniform; total time=   0.0s\n",
      "[CV] END .....................n_neighbors=4, weights=uniform; total time=   0.0s\n",
      "[CV] END .....................n_neighbors=4, weights=uniform; total time=   0.0s\n",
      "[CV] END .....................n_neighbors=4, weights=uniform; total time=   0.0s\n",
      "[CV] END .....................n_neighbors=4, weights=uniform; total time=   0.0s\n",
      "[CV] END .....................n_neighbors=4, weights=uniform; total time=   0.0s\n",
      "[CV] END .....................n_neighbors=5, weights=uniform; total time=   0.0s\n",
      "[CV] END .....................n_neighbors=5, weights=uniform; total time=   0.0s\n",
      "[CV] END .....................n_neighbors=5, weights=uniform; total time=   0.0s\n",
      "[CV] END .....................n_neighbors=6, weights=uniform; total time=   0.0s\n",
      "[CV] END .....................n_neighbors=7, weights=uniform; total time=   0.0s\n",
      "[CV] END .....................n_neighbors=5, weights=uniform; total time=   0.0s\n",
      "[CV] END .....................n_neighbors=6, weights=uniform; total time=   0.0s\n",
      "[CV] END .....................n_neighbors=7, weights=uniform; total time=   0.0s\n",
      "[CV] END .....................n_neighbors=5, weights=uniform; total time=   0.0s\n",
      "[CV] END .....................n_neighbors=6, weights=uniform; total time=   0.0s\n",
      "[CV] END .....................n_neighbors=7, weights=uniform; total time=   0.0s\n",
      "[CV] END .....................n_neighbors=6, weights=uniform; total time=   0.0s\n",
      "[CV] END .....................n_neighbors=7, weights=uniform; total time=   0.0s\n",
      "[CV] END .....................n_neighbors=8, weights=uniform; total time=   0.0s\n",
      "[CV] END .....................n_neighbors=6, weights=uniform; total time=   0.0s\n",
      "[CV] END .....................n_neighbors=7, weights=uniform; total time=   0.0s\n",
      "[CV] END .....................n_neighbors=8, weights=uniform; total time=   0.0s\n",
      "[CV] END .....................n_neighbors=8, weights=uniform; total time=   0.0s\n",
      "[CV] END .....................n_neighbors=9, weights=uniform; total time=   0.0s\n",
      "[CV] END .....................n_neighbors=9, weights=uniform; total time=   0.0s\n",
      "[CV] END .....................n_neighbors=9, weights=uniform; total time=   0.0s\n",
      "[CV] END .....................n_neighbors=8, weights=uniform; total time=   0.0s\n",
      "[CV] END ....................n_neighbors=10, weights=uniform; total time=   0.0s\n",
      "[CV] END ....................n_neighbors=10, weights=uniform; total time=   0.0s\n",
      "[CV] END .....................n_neighbors=8, weights=uniform; total time=   0.0s\n",
      "[CV] END ...............n_neighbors=1, p=1, weights=distance; total time=   0.0s\n",
      "[CV] END .....................n_neighbors=9, weights=uniform; total time=   0.0s\n",
      "[CV] END ...............n_neighbors=1, p=2, weights=distance; total time=   0.0s\n",
      "[CV] END ...............n_neighbors=1, p=1, weights=distance; total time=   0.0s\n",
      "[CV] END ...............n_neighbors=1, p=2, weights=distance; total time=   0.0s\n",
      "[CV] END ....................n_neighbors=10, weights=uniform; total time=   0.0s\n",
      "[CV] END ....................n_neighbors=10, weights=uniform; total time=   0.0s\n",
      "[CV] END ...............n_neighbors=1, p=1, weights=distance; total time=   0.0s\n",
      "[CV] END ...............n_neighbors=1, p=2, weights=distance; total time=   0.0s\n",
      "[CV] END ....................n_neighbors=10, weights=uniform; total time=   0.0s\n",
      "[CV] END ...............n_neighbors=1, p=2, weights=distance; total time=   0.0s\n",
      "[CV] END ...............n_neighbors=1, p=1, weights=distance; total time=   0.0s\n",
      "[CV] END ...............n_neighbors=1, p=2, weights=distance; total time=   0.0s\n",
      "[CV] END ...............n_neighbors=1, p=1, weights=distance; total time=   0.0s\n",
      "[CV] END .....................n_neighbors=9, weights=uniform; total time=   0.0s\n",
      "[CV] END ...............n_neighbors=2, p=2, weights=distance; total time=   0.0s\n",
      "[CV] END ...............n_neighbors=2, p=2, weights=distance; total time=   0.0s\n",
      "[CV] END ...............n_neighbors=2, p=1, weights=distance; total time=   0.0s\n",
      "[CV] END ...............n_neighbors=2, p=2, weights=distance; total time=   0.0s\n",
      "[CV] END ...............n_neighbors=2, p=2, weights=distance; total time=   0.0s\n",
      "[CV] END ...............n_neighbors=2, p=1, weights=distance; total time=   0.0s\n",
      "[CV] END ...............n_neighbors=2, p=2, weights=distance; total time=   0.0s\n",
      "[CV] END ...............n_neighbors=2, p=1, weights=distance; total time=   0.0s\n",
      "[CV] END ...............n_neighbors=2, p=1, weights=distance; total time=   0.0s\n",
      "[CV] END ...............n_neighbors=3, p=1, weights=distance; total time=   0.0s\n",
      "[CV] END ...............n_neighbors=3, p=1, weights=distance; total time=   0.0s\n",
      "[CV] END ...............n_neighbors=3, p=2, weights=distance; total time=   0.0s\n",
      "[CV] END ...............n_neighbors=3, p=1, weights=distance; total time=   0.0s\n",
      "[CV] END ...............n_neighbors=3, p=2, weights=distance; total time=   0.0s\n",
      "[CV] END ...............n_neighbors=3, p=2, weights=distance; total time=   0.0s\n",
      "[CV] END ...............n_neighbors=3, p=1, weights=distance; total time=   0.0s\n",
      "[CV] END ...............n_neighbors=3, p=1, weights=distance; total time=   0.0s\n",
      "[CV] END ...............n_neighbors=3, p=2, weights=distance; total time=   0.0s\n",
      "[CV] END ...............n_neighbors=3, p=2, weights=distance; total time=   0.0s\n",
      "[CV] END ...............n_neighbors=1, p=4, weights=distance; total time=   0.3s\n",
      "[CV] END ...............n_neighbors=1, p=3, weights=distance; total time=   0.3s\n",
      "[CV] END ...............n_neighbors=2, p=4, weights=distance; total time=   0.3s\n",
      "[CV] END ...............n_neighbors=1, p=5, weights=distance; total time=   0.3s\n",
      "[CV] END ...............n_neighbors=2, p=3, weights=distance; total time=   0.3s[CV] END ...............n_neighbors=2, p=3, weights=distance; total time=   0.3s\n",
      "\n",
      "[CV] END ...............n_neighbors=2, p=5, weights=distance; total time=   0.3s\n",
      "[CV] END ...............n_neighbors=1, p=3, weights=distance; total time=   0.4s\n",
      "[CV] END ...............n_neighbors=3, p=3, weights=distance; total time=   0.3s\n",
      "[CV] END ...............n_neighbors=3, p=3, weights=distance; total time=   0.3s\n",
      "[CV] END ...............n_neighbors=1, p=4, weights=distance; total time=   0.3s\n",
      "[CV] END ...............n_neighbors=1, p=3, weights=distance; total time=   0.3s\n",
      "[CV] END ...............n_neighbors=1, p=5, weights=distance; total time=   0.3s\n",
      "[CV] END ...............n_neighbors=2, p=3, weights=distance; total time=   0.3s\n",
      "[CV] END ...............n_neighbors=2, p=4, weights=distance; total time=   0.4s\n",
      "[CV] END ...............n_neighbors=2, p=3, weights=distance; total time=   0.3s\n",
      "[CV] END ...............n_neighbors=2, p=5, weights=distance; total time=   0.3s\n",
      "[CV] END ...............n_neighbors=1, p=4, weights=distance; total time=   0.4s\n",
      "[CV] END ...............n_neighbors=3, p=3, weights=distance; total time=   0.3s\n",
      "[CV] END ...............n_neighbors=3, p=3, weights=distance; total time=   0.3s\n",
      "[CV] END ...............n_neighbors=1, p=5, weights=distance; total time=   0.3s\n",
      "[CV] END ...............n_neighbors=2, p=1, weights=distance; total time=   0.0s\n",
      "[CV] END ...............n_neighbors=1, p=5, weights=distance; total time=   0.3s\n",
      "[CV] END ...............n_neighbors=1, p=3, weights=distance; total time=   0.4s\n",
      "[CV] END ...............n_neighbors=2, p=4, weights=distance; total time=   0.3s\n",
      "[CV] END ...............n_neighbors=2, p=4, weights=distance; total time=   0.3s\n",
      "[CV] END ...............n_neighbors=2, p=5, weights=distance; total time=   0.3s\n",
      "[CV] END ...............n_neighbors=2, p=3, weights=distance; total time=   0.3s\n",
      "[CV] END ...............n_neighbors=3, p=4, weights=distance; total time=   0.4s\n",
      "[CV] END ...............n_neighbors=1, p=4, weights=distance; total time=   0.4s\n",
      "[CV] END ...............n_neighbors=3, p=3, weights=distance; total time=   0.3s\n",
      "[CV] END ...............n_neighbors=1, p=5, weights=distance; total time=   0.3s\n",
      "[CV] END ...............n_neighbors=1, p=3, weights=distance; total time=   0.3s\n",
      "[CV] END ...............n_neighbors=3, p=5, weights=distance; total time=   0.3s\n",
      "[CV] END ...............n_neighbors=4, p=1, weights=distance; total time=   0.0s\n",
      "[CV] END ...............n_neighbors=2, p=4, weights=distance; total time=   0.3s\n",
      "[CV] END ...............n_neighbors=4, p=1, weights=distance; total time=   0.0s\n",
      "[CV] END ...............n_neighbors=4, p=2, weights=distance; total time=   0.0s\n",
      "[CV] END ...............n_neighbors=4, p=2, weights=distance; total time=   0.0s\n",
      "[CV] END ...............n_neighbors=4, p=2, weights=distance; total time=   0.0s\n",
      "[CV] END ...............n_neighbors=4, p=2, weights=distance; total time=   0.0s\n",
      "[CV] END ...............n_neighbors=4, p=2, weights=distance; total time=   0.0s\n",
      "[CV] END ...............n_neighbors=3, p=5, weights=distance; total time=   0.3s\n",
      "[CV] END ...............n_neighbors=4, p=1, weights=distance; total time=   0.0s\n",
      "[CV] END ...............n_neighbors=4, p=1, weights=distance; total time=   0.0s\n",
      "[CV] END ...............n_neighbors=2, p=5, weights=distance; total time=   0.4s\n",
      "[CV] END ...............n_neighbors=4, p=1, weights=distance; total time=   0.0s\n",
      "[CV] END ...............n_neighbors=2, p=5, weights=distance; total time=   0.4s\n",
      "[CV] END ...............n_neighbors=5, p=2, weights=distance; total time=   0.0s\n",
      "[CV] END ...............n_neighbors=5, p=2, weights=distance; total time=   0.0s\n",
      "[CV] END ...............n_neighbors=5, p=2, weights=distance; total time=   0.0s\n",
      "[CV] END ...............n_neighbors=5, p=2, weights=distance; total time=   0.0s\n",
      "[CV] END ...............n_neighbors=3, p=4, weights=distance; total time=   0.3s\n",
      "[CV] END ...............n_neighbors=3, p=4, weights=distance; total time=   0.3s\n",
      "[CV] END ...............n_neighbors=1, p=4, weights=distance; total time=   0.4s\n",
      "[CV] END ...............n_neighbors=6, p=2, weights=distance; total time=   0.0s\n",
      "[CV] END ...............n_neighbors=6, p=2, weights=distance; total time=   0.0s\n",
      "[CV] END ...............n_neighbors=6, p=2, weights=distance; total time=   0.0s\n",
      "[CV] END ...............n_neighbors=6, p=2, weights=distance; total time=   0.0s\n",
      "[CV] END ...............n_neighbors=6, p=2, weights=distance; total time=   0.0s\n",
      "[CV] END ...............n_neighbors=3, p=5, weights=distance; total time=   0.3s\n",
      "[CV] END ...............n_neighbors=4, p=3, weights=distance; total time=   0.3s\n",
      "[CV] END ...............n_neighbors=4, p=4, weights=distance; total time=   0.3s\n",
      "[CV] END ...............n_neighbors=4, p=3, weights=distance; total time=   0.3s\n",
      "[CV] END ...............n_neighbors=5, p=3, weights=distance; total time=   0.3s\n",
      "[CV] END ...............n_neighbors=4, p=5, weights=distance; total time=   0.3s\n",
      "[CV] END ...............n_neighbors=5, p=3, weights=distance; total time=   0.4s\n",
      "[CV] END ...............n_neighbors=5, p=5, weights=distance; total time=   0.3s\n",
      "[CV] END ...............n_neighbors=3, p=4, weights=distance; total time=   0.4s\n",
      "[CV] END ...............n_neighbors=4, p=3, weights=distance; total time=   0.3s\n",
      "[CV] END ...............n_neighbors=6, p=3, weights=distance; total time=   0.4s\n",
      "[CV] END ...............n_neighbors=3, p=5, weights=distance; total time=   0.4s\n",
      "[CV] END ...............n_neighbors=4, p=5, weights=distance; total time=   0.3s\n",
      "[CV] END ...............n_neighbors=5, p=1, weights=distance; total time=   0.0s\n",
      "[CV] END ...............n_neighbors=4, p=4, weights=distance; total time=   0.4s\n",
      "[CV] END ...............n_neighbors=6, p=3, weights=distance; total time=   0.4s\n",
      "[CV] END ...............n_neighbors=5, p=1, weights=distance; total time=   0.1s\n",
      "[CV] END ...............n_neighbors=5, p=1, weights=distance; total time=   0.0s\n",
      "[CV] END ...............n_neighbors=5, p=1, weights=distance; total time=   0.0s\n",
      "[CV] END ...............n_neighbors=5, p=4, weights=distance; total time=   0.4s\n",
      "[CV] END ...............n_neighbors=5, p=1, weights=distance; total time=   0.0s\n",
      "[CV] END ...............n_neighbors=5, p=2, weights=distance; total time=   0.0s\n",
      "[CV] END ...............n_neighbors=5, p=3, weights=distance; total time=   0.4s\n",
      "[CV] END ...............n_neighbors=3, p=4, weights=distance; total time=   0.4s\n",
      "[CV] END ...............n_neighbors=5, p=5, weights=distance; total time=   0.4s\n",
      "[CV] END ...............n_neighbors=7, p=1, weights=distance; total time=   0.0s\n",
      "[CV] END ...............n_neighbors=7, p=2, weights=distance; total time=   0.0s\n",
      "[CV] END ...............n_neighbors=7, p=2, weights=distance; total time=   0.0s\n",
      "[CV] END ...............n_neighbors=4, p=3, weights=distance; total time=   0.4s\n",
      "[CV] END ...............n_neighbors=7, p=2, weights=distance; total time=   0.0s\n",
      "[CV] END ...............n_neighbors=7, p=2, weights=distance; total time=   0.0s\n",
      "[CV] END ...............n_neighbors=7, p=2, weights=distance; total time=   0.0s\n",
      "[CV] END ...............n_neighbors=4, p=4, weights=distance; total time=   0.3s\n",
      "[CV] END ...............n_neighbors=3, p=5, weights=distance; total time=   0.4s\n",
      "[CV] END ...............n_neighbors=6, p=3, weights=distance; total time=   0.4s\n",
      "[CV] END ...............n_neighbors=6, p=5, weights=distance; total time=   0.3s\n",
      "[CV] END ...............n_neighbors=6, p=3, weights=distance; total time=   0.4s\n",
      "[CV] END ...............n_neighbors=5, p=4, weights=distance; total time=   0.4s\n",
      "[CV] END ...............n_neighbors=5, p=5, weights=distance; total time=   0.3s\n",
      "[CV] END ...............n_neighbors=5, p=3, weights=distance; total time=   0.4s\n",
      "[CV] END ...............n_neighbors=6, p=1, weights=distance; total time=   0.0s\n",
      "[CV] END ...............n_neighbors=6, p=1, weights=distance; total time=   0.0s\n",
      "[CV] END ...............n_neighbors=6, p=1, weights=distance; total time=   0.0s\n",
      "[CV] END ...............n_neighbors=6, p=1, weights=distance; total time=   0.0s\n",
      "[CV] END ...............n_neighbors=6, p=1, weights=distance; total time=   0.0s\n",
      "[CV] END ...............n_neighbors=4, p=3, weights=distance; total time=   0.3s\n",
      "[CV] END ...............n_neighbors=7, p=3, weights=distance; total time=   0.3s\n",
      "[CV] END ...............n_neighbors=8, p=1, weights=distance; total time=   0.0s\n",
      "[CV] END ...............n_neighbors=4, p=4, weights=distance; total time=   0.3s\n",
      "[CV] END ...............n_neighbors=8, p=1, weights=distance; total time=   0.0s\n",
      "[CV] END ...............n_neighbors=8, p=2, weights=distance; total time=   0.0s\n",
      "[CV] END ...............n_neighbors=8, p=2, weights=distance; total time=   0.0s\n",
      "[CV] END ...............n_neighbors=8, p=2, weights=distance; total time=   0.0s\n",
      "[CV] END ...............n_neighbors=8, p=2, weights=distance; total time=   0.0s\n",
      "[CV] END ...............n_neighbors=7, p=3, weights=distance; total time=   0.4s\n",
      "[CV] END ...............n_neighbors=8, p=2, weights=distance; total time=   0.0s\n",
      "[CV] END ...............n_neighbors=6, p=3, weights=distance; total time=   0.4s\n",
      "[CV] END ...............n_neighbors=5, p=4, weights=distance; total time=   0.3s\n",
      "[CV] END ...............n_neighbors=6, p=4, weights=distance; total time=   0.4s\n",
      "[CV] END ...............n_neighbors=6, p=5, weights=distance; total time=   0.4s\n",
      "[CV] END ...............n_neighbors=5, p=3, weights=distance; total time=   0.4s\n",
      "[CV] END ...............n_neighbors=7, p=5, weights=distance; total time=   0.3s\n",
      "[CV] END ...............n_neighbors=7, p=3, weights=distance; total time=   0.4s\n",
      "[CV] END ...............n_neighbors=9, p=1, weights=distance; total time=   0.0s\n",
      "[CV] END ...............n_neighbors=9, p=1, weights=distance; total time=   0.0s\n",
      "[CV] END ...............n_neighbors=7, p=3, weights=distance; total time=   0.3s\n",
      "[CV] END ...............n_neighbors=4, p=4, weights=distance; total time=   0.4s\n",
      "[CV] END ...............n_neighbors=9, p=1, weights=distance; total time=   0.0s\n",
      "[CV] END ...............n_neighbors=9, p=2, weights=distance; total time=   0.0s\n",
      "[CV] END ...............n_neighbors=9, p=2, weights=distance; total time=   0.0s\n",
      "[CV] END ...............n_neighbors=9, p=2, weights=distance; total time=   0.0s\n",
      "[CV] END ...............n_neighbors=8, p=3, weights=distance; total time=   0.4s\n",
      "[CV] END ...............n_neighbors=9, p=2, weights=distance; total time=   0.0s\n",
      "[CV] END ...............n_neighbors=9, p=2, weights=distance; total time=   0.0s\n",
      "[CV] END ...............n_neighbors=6, p=4, weights=distance; total time=   0.3s\n",
      "[CV] END ...............n_neighbors=8, p=3, weights=distance; total time=   0.4s\n",
      "[CV] END ...............n_neighbors=6, p=5, weights=distance; total time=   0.3s\n",
      "[CV] END ...............n_neighbors=5, p=4, weights=distance; total time=   0.4s\n",
      "[CV] END ...............n_neighbors=7, p=5, weights=distance; total time=   0.3s\n",
      "[CV] END ...............n_neighbors=4, p=5, weights=distance; total time=   0.3s\n",
      "[CV] END ...............n_neighbors=8, p=4, weights=distance; total time=   0.4s\n",
      "[CV] END ...............n_neighbors=7, p=3, weights=distance; total time=   0.4s\n",
      "[CV] END ...............n_neighbors=6, p=4, weights=distance; total time=   0.3s\n",
      "[CV] END ...............n_neighbors=9, p=4, weights=distance; total time=   0.3s\n",
      "[CV] END ...............n_neighbors=9, p=3, weights=distance; total time=   0.4s\n",
      "[CV] END ...............n_neighbors=5, p=4, weights=distance; total time=   0.3s\n",
      "[CV] END ...............n_neighbors=6, p=5, weights=distance; total time=   0.3s\n",
      "[CV] END ...............n_neighbors=8, p=3, weights=distance; total time=   0.4s\n",
      "[CV] END ...............n_neighbors=7, p=1, weights=distance; total time=   0.0s\n",
      "[CV] END ...............n_neighbors=7, p=1, weights=distance; total time=   0.0s\n",
      "[CV] END ...............n_neighbors=7, p=1, weights=distance; total time=   0.0s\n",
      "[CV] END ...............n_neighbors=7, p=1, weights=distance; total time=   0.0s\n",
      "[CV] END ...............n_neighbors=7, p=5, weights=distance; total time=   0.3s\n",
      "[CV] END ..............n_neighbors=10, p=1, weights=distance; total time=   0.0s\n",
      "[CV] END ..............n_neighbors=10, p=1, weights=distance; total time=   0.0s\n",
      "[CV] END ..............n_neighbors=10, p=1, weights=distance; total time=   0.0s\n",
      "[CV] END ..............n_neighbors=10, p=1, weights=distance; total time=   0.0s\n",
      "[CV] END ..............n_neighbors=10, p=2, weights=distance; total time=   0.0s\n",
      "[CV] END ..............n_neighbors=10, p=2, weights=distance; total time=   0.0s\n",
      "[CV] END ..............n_neighbors=10, p=2, weights=distance; total time=   0.0s\n",
      "[CV] END ..............n_neighbors=10, p=2, weights=distance; total time=   0.0s\n",
      "[CV] END ..............n_neighbors=10, p=2, weights=distance; total time=   0.0s\n",
      "[CV] END ...............n_neighbors=4, p=5, weights=distance; total time=   0.3s\n",
      "[CV] END ...............n_neighbors=8, p=5, weights=distance; total time=   0.3s\n",
      "[CV] END ...............n_neighbors=7, p=4, weights=distance; total time=   0.3s\n",
      "[CV] END ...............n_neighbors=6, p=4, weights=distance; total time=   0.3s\n",
      "[CV] END ...............n_neighbors=9, p=4, weights=distance; total time=   0.3s\n",
      "[CV] END ...............n_neighbors=9, p=3, weights=distance; total time=   0.3s\n",
      "[CV] END ...............n_neighbors=5, p=5, weights=distance; total time=   0.3s\n",
      "[CV] END ...............n_neighbors=8, p=3, weights=distance; total time=   0.3s\n",
      "[CV] END ...............n_neighbors=7, p=5, weights=distance; total time=   0.3s\n",
      "[CV] END ..............n_neighbors=10, p=3, weights=distance; total time=   0.3s\n",
      "[CV] END ...............n_neighbors=4, p=5, weights=distance; total time=   0.3s\n",
      "[CV] END ...............n_neighbors=7, p=4, weights=distance; total time=   0.3s\n",
      "[CV] END ...............n_neighbors=6, p=4, weights=distance; total time=   0.3s\n",
      "[CV] END ...............n_neighbors=8, p=5, weights=distance; total time=   0.4s\n",
      "[CV] END ...............n_neighbors=9, p=5, weights=distance; total time=   0.3s\n",
      "[CV] END ...............n_neighbors=9, p=3, weights=distance; total time=   0.3s\n",
      "[CV] END ...............n_neighbors=5, p=5, weights=distance; total time=   0.3s\n",
      "[CV] END ...............n_neighbors=7, p=5, weights=distance; total time=   0.3s\n",
      "[CV] END ...............n_neighbors=8, p=1, weights=distance; total time=   0.0s\n",
      "[CV] END ...............n_neighbors=8, p=1, weights=distance; total time=   0.0s\n",
      "[CV] END ...............n_neighbors=8, p=3, weights=distance; total time=   0.4s\n",
      "[CV] END ...............n_neighbors=8, p=1, weights=distance; total time=   0.0s\n",
      "[CV] END ..............n_neighbors=10, p=3, weights=distance; total time=   0.3s\n",
      "[CV] END ..............n_neighbors=10, p=4, weights=distance; total time=   0.3s\n",
      "[CV] END ...............n_neighbors=7, p=4, weights=distance; total time=   0.3s\n",
      "[CV] END ...............n_neighbors=6, p=5, weights=distance; total time=   0.3s\n",
      "[CV] END ...............n_neighbors=9, p=3, weights=distance; total time=   0.3s\n",
      "[CV] END ...............n_neighbors=9, p=5, weights=distance; total time=   0.3s\n",
      "[CV] END ...............n_neighbors=8, p=5, weights=distance; total time=   0.3s\n",
      "[CV] END ...............n_neighbors=8, p=4, weights=distance; total time=   0.3s\n",
      "[CV] END ..............n_neighbors=10, p=3, weights=distance; total time=   0.3s\n",
      "[CV] END ..............n_neighbors=10, p=4, weights=distance; total time=   0.3s\n",
      "[CV] END ...............n_neighbors=7, p=4, weights=distance; total time=   0.3s\n",
      "[CV] END ...............n_neighbors=9, p=3, weights=distance; total time=   0.3s\n",
      "[CV] END ...............n_neighbors=9, p=5, weights=distance; total time=   0.3s\n",
      "[CV] END ...............n_neighbors=8, p=5, weights=distance; total time=   0.3s\n",
      "[CV] END ...............n_neighbors=8, p=4, weights=distance; total time=   0.3s\n",
      "[CV] END ..............n_neighbors=10, p=3, weights=distance; total time=   0.3s\n",
      "[CV] END ..............n_neighbors=10, p=4, weights=distance; total time=   0.3s\n",
      "[CV] END ...............n_neighbors=7, p=4, weights=distance; total time=   0.3s\n",
      "[CV] END ...............n_neighbors=9, p=4, weights=distance; total time=   0.3s\n",
      "[CV] END ...............n_neighbors=9, p=5, weights=distance; total time=   0.3s\n",
      "[CV] END ...............n_neighbors=8, p=5, weights=distance; total time=   0.3s\n",
      "[CV] END ...............n_neighbors=9, p=1, weights=distance; total time=   0.0s\n",
      "[CV] END ...............n_neighbors=9, p=1, weights=distance; total time=   0.0s\n",
      "[CV] END ...............n_neighbors=8, p=4, weights=distance; total time=   0.3s\n",
      "[CV] END ..............n_neighbors=10, p=3, weights=distance; total time=   0.3s\n",
      "[CV] END ..............n_neighbors=10, p=5, weights=distance; total time=   0.3s\n",
      "[CV] END ...............n_neighbors=9, p=4, weights=distance; total time=   0.3s\n",
      "[CV] END ...............n_neighbors=9, p=5, weights=distance; total time=   0.3s\n",
      "[CV] END ..............n_neighbors=10, p=1, weights=distance; total time=   0.0s\n",
      "[CV] END ..............n_neighbors=10, p=4, weights=distance; total time=   0.3s\n",
      "[CV] END ..............n_neighbors=10, p=5, weights=distance; total time=   0.3s\n",
      "[CV] END ...............n_neighbors=8, p=4, weights=distance; total time=   0.3s\n",
      "[CV] END ...............n_neighbors=9, p=4, weights=distance; total time=   0.3s\n",
      "[CV] END ..............n_neighbors=10, p=4, weights=distance; total time=   0.3s\n",
      "[CV] END ..............n_neighbors=10, p=5, weights=distance; total time=   0.3s\n",
      "[CV] END ..............n_neighbors=10, p=5, weights=distance; total time=   0.2s\n",
      "[CV] END ..............n_neighbors=10, p=5, weights=distance; total time=   0.3s\n"
     ]
    },
    {
     "data": {
      "text/plain": [
       "GridSearchCV(estimator=KNeighborsClassifier(n_neighbors=1), n_jobs=-1,\n",
       "             param_grid=[{'n_neighbors': [1, 2, 3, 4, 5, 6, 7, 8, 9, 10],\n",
       "                          'weights': ['uniform']},\n",
       "                         {'n_neighbors': [1, 2, 3, 4, 5, 6, 7, 8, 9, 10],\n",
       "                          'p': [1, 2, 3, 4, 5], 'weights': ['distance']}],\n",
       "             verbose=2)"
      ]
     },
     "execution_count": 61,
     "metadata": {},
     "output_type": "execute_result"
    }
   ],
   "source": [
    "grid_search = GridSearchCV(knn_clf, paramGrid, n_jobs=-1, verbose=2)\n",
    "grid_search.fit(X_train,y_train)"
   ]
  },
  {
   "cell_type": "code",
   "execution_count": null,
   "metadata": {},
   "outputs": [],
   "source": []
  }
 ],
 "metadata": {
  "kernelspec": {
   "display_name": "Python 3.9.12 ('base')",
   "language": "python",
   "name": "python3"
  },
  "language_info": {
   "codemirror_mode": {
    "name": "ipython",
    "version": 3
   },
   "file_extension": ".py",
   "mimetype": "text/x-python",
   "name": "python",
   "nbconvert_exporter": "python",
   "pygments_lexer": "ipython3",
   "version": "3.9.12"
  },
  "orig_nbformat": 4,
  "vscode": {
   "interpreter": {
    "hash": "40d3a090f54c6569ab1632332b64b2c03c39dcf918b08424e98f38b5ae0af88f"
   }
  }
 },
 "nbformat": 4,
 "nbformat_minor": 2
}
